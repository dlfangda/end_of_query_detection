{
 "cells": [
  {
   "cell_type": "code",
   "execution_count": 1,
   "metadata": {
    "collapsed": false
   },
   "outputs": [],
   "source": [
    "%matplotlib inline\n",
    "import matplotlib.pyplot as plt\n",
    "from numpy.random import normal, uniform\n",
    "import numpy as np\n",
    "import pickle\n",
    "import pandas as pd\n",
    "import sys\n",
    "from random import shuffle\n",
    "sys.path.append(\"../../Preprocessing/\")\n",
    "#Going straight to the LM corpus to make sense of this\n",
    "from copy import deepcopy\n",
    "from language_model.ngram_language_model import KneserNeySmoothingModel\n",
    "from collections import defaultdict\n",
    "from extract_utils import lsdir"
   ]
  },
  {
   "cell_type": "code",
   "execution_count": 50,
   "metadata": {
    "collapsed": true
   },
   "outputs": [],
   "source": [
    "acoustic_features = 'label ~ pcm_RMSenergy_sma + rms_minus_one + rms_minus_two + rms_minus_three + rms_minus_four +\\\n",
    "pcm_LOGenergy_sma + pcm_loudness_sma + pcm_intensity_sma  +\\\n",
    "zscore + duration + intensity_mean + intensity_slope +\\\n",
    "F0final_sma + F0raw_sma + F0_mean + F0_slope'\n",
    "\n",
    "#acoustic_features = 'label ~ time_in_sec + \\\n",
    "#pcm_RMSenergy_sma + rms_minus_one + rms_minus_two + rms_minus_three + rms_minus_four +\\\n",
    "#pcm_LOGenergy_sma + pcm_loudness_sma + pcm_intensity_sma  +\\\n",
    "#intensity_mean + intensity_slope'\n",
    "\n",
    " ######################################################\n",
    "lm_features = 'label ~ wml + wml_trigram + entropy'\n",
    "\n",
    "def plot_hist(numbers_1, numbers_2, label_1, label_2, title,num_bins=10, x_range=[],y_range=[], feature=\"WML\"):\n",
    "    #plt.legend(loc=\"upper left\", bbox_to_anchor=[0, 1],\n",
    "    #       ncol=2, shadow=True, title=\"Legend\", fancybox=True)\n",
    "    plt.xlim(x_range)\n",
    "    plt.ylim(y_range)\n",
    "    plt.hist(numbers_1, bins=num_bins, histtype='stepfilled', normed=True, color='b', label=label_1)\n",
    "    plt.hist(numbers_2, bins=num_bins, histtype='stepfilled', normed=True, color='r', alpha=0.5, label=label_2)\n",
    "    plt.title(title)\n",
    "    plt.xlabel(feature)\n",
    "    plt.ylabel(\"Freq.\")\n",
    "    plt.legend(loc=\"upper left\", bbox_to_anchor=[0, 1],\n",
    "           ncol=2, shadow=True, fancybox=True)\n",
    "    plt.show()"
   ]
  },
  {
   "cell_type": "code",
   "execution_count": 5,
   "metadata": {
    "collapsed": false
   },
   "outputs": [],
   "source": [
    "corpusfile = open(\"../../Preprocessing/utterances_for_LM.txt\")\n",
    "#clean and put into folds for each speaker, testing on the one left out\n",
    "folds = defaultdict(str)\n",
    "for line in corpusfile:\n",
    "    line = line.strip(\"\\n\")\n",
    "    if line == \"\": continue\n",
    "    line = line.replace(\":\",\"\").replace(\"?\",\"\").replace(\"!\",\"\").replace(\".\",\"\").replace(\",\",\"\")\n",
    "    line = line.split()\n",
    "    line = [w for w in line if not \"<\" in w]\n",
    "    raw_words = line\n",
    "    speaker= raw_words.pop(0)\n",
    "    ep = raw_words.pop(0)\n",
    "    words = []\n",
    "    for w in raw_words:\n",
    "        if w == \"MTP\": continue\n",
    "        words.append(w.lower()) #w.lower()\n",
    "    folds[speaker]+=\" \".join(words) + \"\\n\"\n",
    "corpusfile.close()\n",
    "#folds[\"2\"]"
   ]
  },
  {
   "cell_type": "code",
   "execution_count": 22,
   "metadata": {
    "collapsed": true
   },
   "outputs": [],
   "source": [
    "def get_words_and_frame_positions_of_start_times(df,feature):\n",
    "    words_idx = [] #a list of (word,end_time) tuples from df\n",
    "    #need to check the values we're getting here from the dfs sanity check\n",
    "    x = pd.Series(df.time_in_sec.astype(float))\n",
    "    words = df[['words']]\n",
    "    wml = df[[feature]]\n",
    "    \n",
    "    current_words = \"<null>\"\n",
    "    for i in range(0,len(words)):\n",
    "        my_words = str(words.iloc[[i]].words.values[0].encode(\"utf-8\"))\n",
    "        #word = word.replace(\":\",\"\").replace(\"?\",\"\")\n",
    "        word = my_words.split(\";\")[-1]\n",
    "        if \"<\" in word: continue\n",
    "        if word == \"MTP\": continue\n",
    "        if not my_words == current_words:\n",
    "            local_wml = float(wml.iloc[[i]].values[0])\n",
    "            words_idx.append((word.lower(),local_wml,i))\n",
    "            current_words = my_words\n",
    "    return words_idx"
   ]
  },
  {
   "cell_type": "code",
   "execution_count": null,
   "metadata": {
    "collapsed": false
   },
   "outputs": [
    {
     "name": "stdout",
     "output_type": "stream",
     "text": [
      "target 2 heldout 3\n",
      "skipping fold 2\n",
      "training size 766\n",
      "training corpus is a string\n",
      "Training on standard data...\n",
      "TOTAL WORDS TRAINED ON = 5225\n",
      "using heldout corpus\n",
      "training corpus is a string\n",
      "Training on heldout data...\n",
      "unknown words in heldout data 42\n",
      "TOTAL WORDS TRAINED ON = 6020\n",
      "6020 total words of training data\n",
      "1-grams = 303\n",
      "2-grams = 1503\n",
      "3-grams = 2682\n",
      "['<s>', '<s>', -0.6995213154888678, -0.6503085070560338, -0.5762911345394383, -1.1232301809494294, -1.1845962244455657, -0.6995213154888678, -0.02980786590383179, '<eot>']\n",
      "['<s>', '<s>', 'es', 'ist', 'gelb', 'nur', 'ein', 'vertikaler', 'balken', '<eot>']\n",
      "final\n",
      "['<s>', '<s>', -0.6995213154888678, -0.6503085070560338, -1.117915778532808, -0.3131179937051522, '<eot>']\n",
      "['<s>', '<s>', 'es', 'ist', 'unten', 'links', '<eot>']\n",
      "final\n",
      "['<s>', '<s>', -0.6995213154888678, -0.43730280937456817, -1.1232301809494294, -0.872498007974872, -0.21291184902681987, -1.1845962244455657, -0.6995213154888678, -0.43730280937456817, -1.2464603618988588, -0.5762911345394383, -1.1845962244455657, -0.6995213154888678, -0.43730280937456817, -0.9078060436684608, -0.7161759897266987, '<eot>']\n",
      "['<s>', '<s>', 'es', 'befindet', 'sich', 'oben', 'links', 'ein', 'gro\\xc3\\x9fes', 'quadrat', 'und', 'dadrauf', 'ein', 'kleines', 'quadrat', 'links', 'rot', '<eot>']\n",
      "final\n",
      "['<s>', '<s>', -1.9495958997237801, -0.5762911345394383, -0.6503085070560338, -0.3740152264174471, -1.0613660434961363, -0.6995213154888678, -0.02980786590383179, -1.1232301809494294, -0.872498007974872, -0.2187515415576819, -0.5762911345394383, -0.43730280937456817, -0.43730280937456817, -1.1232301809494294, -1.0613660434961363, -0.6995213154888678, -0.02980786590383179, -1.1232301809494294, -0.872498007974872, -0.2187515415576819, -0.5762911345394383, -0.43730280937456817, -0.43730280937456817, -0.02980786590383179, -1.2464603618988588, -0.5762911345394383, -0.43730280937456817, -1.1232301809494294, -0.9420358178803683, -0.17327795948154842, '<eot>']\n",
      "['<s>', '<s>', '\\xc3\\xa4hm', 'es', 'ist', 'dunkelblau', 'ein', 'horizontaler', 'balken', 'mit', 'oben', 'rechts', 'einem', 'kleinen', 'nein', 'falsch', 'ein', 'vertikaler', 'balken', 'mit', 'oben', 'rechts', 'einem', 'kleinen', 'horizontalen', 'balken', 'und', 'es', 'befindet', 'sich', 'rechts', 'unten', '<eot>']\n",
      "final\n",
      "['<s>', '<s>', -2.3701152856274814, -0.23983624850380317, -2.066648215182233, -0.5331801319179695, '<eot>']\n",
      "['<s>', '<s>', 'unten', 'rechts', 'das', 'rechte', '<eot>']\n",
      "final\n",
      "['<s>', '<s>', -0.6995213154888678, -0.6503085070560338, -0.7510758496810688, -0.9946855975833786, -0.23983624850380317, -1.1232301809494294, -1.647552335462586, -0.7127221538823403, '<eot>']\n",
      "['<s>', '<s>', 'es', 'ist', 'hellblau', 'unten', 'rechts', 'nicht', 'das', 't', '<eot>']\n",
      "final\n"
     ]
    },
    {
     "ename": "KeyboardInterrupt",
     "evalue": "",
     "output_type": "error",
     "traceback": [
      "\u001b[0;31m---------------------------------------------------------------------------\u001b[0m",
      "\u001b[0;31mKeyboardInterrupt\u001b[0m                         Traceback (most recent call last)",
      "\u001b[0;32m<ipython-input-53-5e61eb0cde3f>\u001b[0m in \u001b[0;36m<module>\u001b[0;34m()\u001b[0m\n\u001b[1;32m     49\u001b[0m             \u001b[0;31m#print path\u001b[0m\u001b[0;34m\u001b[0m\u001b[0;34m\u001b[0m\u001b[0m\n\u001b[1;32m     50\u001b[0m             \u001b[0mtest_ep_df\u001b[0m \u001b[0;34m=\u001b[0m \u001b[0mpickle\u001b[0m\u001b[0;34m.\u001b[0m\u001b[0mload\u001b[0m\u001b[0;34m(\u001b[0m\u001b[0mopen\u001b[0m\u001b[0;34m(\u001b[0m\u001b[0mpath\u001b[0m\u001b[0;34m,\u001b[0m\u001b[0;34m'rb'\u001b[0m\u001b[0;34m)\u001b[0m\u001b[0;34m)\u001b[0m\u001b[0;34m\u001b[0m\u001b[0m\n\u001b[0;32m---> 51\u001b[0;31m             \u001b[0mwords_idx\u001b[0m \u001b[0;34m=\u001b[0m \u001b[0mget_words_and_frame_positions_of_start_times\u001b[0m\u001b[0;34m(\u001b[0m\u001b[0mtest_ep_df\u001b[0m\u001b[0;34m,\u001b[0m \u001b[0mfeature\u001b[0m\u001b[0;34m=\u001b[0m\u001b[0;34m\"wml_trigram\"\u001b[0m\u001b[0;34m)\u001b[0m\u001b[0;34m\u001b[0m\u001b[0m\n\u001b[0m\u001b[1;32m     52\u001b[0m         \u001b[0;31m#for l in folds[f].split(\"\\n\"):\u001b[0m\u001b[0;34m\u001b[0m\u001b[0;34m\u001b[0m\u001b[0m\n\u001b[1;32m     53\u001b[0m             \u001b[0;31m#print l\u001b[0m\u001b[0;34m\u001b[0m\u001b[0;34m\u001b[0m\u001b[0m\n",
      "\u001b[0;32m<ipython-input-22-0bcd75696ea2>\u001b[0m in \u001b[0;36mget_words_and_frame_positions_of_start_times\u001b[0;34m(df, feature)\u001b[0m\n\u001b[1;32m      8\u001b[0m     \u001b[0mcurrent_words\u001b[0m \u001b[0;34m=\u001b[0m \u001b[0;34m\"<null>\"\u001b[0m\u001b[0;34m\u001b[0m\u001b[0m\n\u001b[1;32m      9\u001b[0m     \u001b[0;32mfor\u001b[0m \u001b[0mi\u001b[0m \u001b[0;32min\u001b[0m \u001b[0mrange\u001b[0m\u001b[0;34m(\u001b[0m\u001b[0;36m0\u001b[0m\u001b[0;34m,\u001b[0m\u001b[0mlen\u001b[0m\u001b[0;34m(\u001b[0m\u001b[0mwords\u001b[0m\u001b[0;34m)\u001b[0m\u001b[0;34m)\u001b[0m\u001b[0;34m:\u001b[0m\u001b[0;34m\u001b[0m\u001b[0m\n\u001b[0;32m---> 10\u001b[0;31m         \u001b[0mmy_words\u001b[0m \u001b[0;34m=\u001b[0m \u001b[0mstr\u001b[0m\u001b[0;34m(\u001b[0m\u001b[0mwords\u001b[0m\u001b[0;34m.\u001b[0m\u001b[0miloc\u001b[0m\u001b[0;34m[\u001b[0m\u001b[0;34m[\u001b[0m\u001b[0mi\u001b[0m\u001b[0;34m]\u001b[0m\u001b[0;34m]\u001b[0m\u001b[0;34m.\u001b[0m\u001b[0mwords\u001b[0m\u001b[0;34m.\u001b[0m\u001b[0mvalues\u001b[0m\u001b[0;34m[\u001b[0m\u001b[0;36m0\u001b[0m\u001b[0;34m]\u001b[0m\u001b[0;34m.\u001b[0m\u001b[0mencode\u001b[0m\u001b[0;34m(\u001b[0m\u001b[0;34m\"utf-8\"\u001b[0m\u001b[0;34m)\u001b[0m\u001b[0;34m)\u001b[0m\u001b[0;34m\u001b[0m\u001b[0m\n\u001b[0m\u001b[1;32m     11\u001b[0m         \u001b[0;31m#word = word.replace(\":\",\"\").replace(\"?\",\"\")\u001b[0m\u001b[0;34m\u001b[0m\u001b[0;34m\u001b[0m\u001b[0m\n\u001b[1;32m     12\u001b[0m         \u001b[0mword\u001b[0m \u001b[0;34m=\u001b[0m \u001b[0mmy_words\u001b[0m\u001b[0;34m.\u001b[0m\u001b[0msplit\u001b[0m\u001b[0;34m(\u001b[0m\u001b[0;34m\";\"\u001b[0m\u001b[0;34m)\u001b[0m\u001b[0;34m[\u001b[0m\u001b[0;34m-\u001b[0m\u001b[0;36m1\u001b[0m\u001b[0;34m]\u001b[0m\u001b[0;34m\u001b[0m\u001b[0m\n",
      "\u001b[0;32m/Library/Python/2.7/site-packages/pandas/core/indexing.pyc\u001b[0m in \u001b[0;36m__getitem__\u001b[0;34m(self, key)\u001b[0m\n\u001b[1;32m   1310\u001b[0m             \u001b[0;32mreturn\u001b[0m \u001b[0mself\u001b[0m\u001b[0;34m.\u001b[0m\u001b[0m_getitem_tuple\u001b[0m\u001b[0;34m(\u001b[0m\u001b[0mkey\u001b[0m\u001b[0;34m)\u001b[0m\u001b[0;34m\u001b[0m\u001b[0m\n\u001b[1;32m   1311\u001b[0m         \u001b[0;32melse\u001b[0m\u001b[0;34m:\u001b[0m\u001b[0;34m\u001b[0m\u001b[0m\n\u001b[0;32m-> 1312\u001b[0;31m             \u001b[0;32mreturn\u001b[0m \u001b[0mself\u001b[0m\u001b[0;34m.\u001b[0m\u001b[0m_getitem_axis\u001b[0m\u001b[0;34m(\u001b[0m\u001b[0mkey\u001b[0m\u001b[0;34m,\u001b[0m \u001b[0maxis\u001b[0m\u001b[0;34m=\u001b[0m\u001b[0;36m0\u001b[0m\u001b[0;34m)\u001b[0m\u001b[0;34m\u001b[0m\u001b[0m\n\u001b[0m\u001b[1;32m   1313\u001b[0m \u001b[0;34m\u001b[0m\u001b[0m\n\u001b[1;32m   1314\u001b[0m     \u001b[0;32mdef\u001b[0m \u001b[0m_getitem_axis\u001b[0m\u001b[0;34m(\u001b[0m\u001b[0mself\u001b[0m\u001b[0;34m,\u001b[0m \u001b[0mkey\u001b[0m\u001b[0;34m,\u001b[0m \u001b[0maxis\u001b[0m\u001b[0;34m=\u001b[0m\u001b[0;36m0\u001b[0m\u001b[0;34m)\u001b[0m\u001b[0;34m:\u001b[0m\u001b[0;34m\u001b[0m\u001b[0m\n",
      "\u001b[0;32m/Library/Python/2.7/site-packages/pandas/core/indexing.pyc\u001b[0m in \u001b[0;36m_getitem_axis\u001b[0;34m(self, key, axis)\u001b[0m\n\u001b[1;32m   1628\u001b[0m                 \u001b[0mself\u001b[0m\u001b[0;34m.\u001b[0m\u001b[0m_is_valid_integer\u001b[0m\u001b[0;34m(\u001b[0m\u001b[0mkey\u001b[0m\u001b[0;34m,\u001b[0m \u001b[0maxis\u001b[0m\u001b[0;34m)\u001b[0m\u001b[0;34m\u001b[0m\u001b[0m\n\u001b[1;32m   1629\u001b[0m \u001b[0;34m\u001b[0m\u001b[0m\n\u001b[0;32m-> 1630\u001b[0;31m             \u001b[0;32mreturn\u001b[0m \u001b[0mself\u001b[0m\u001b[0;34m.\u001b[0m\u001b[0m_get_loc\u001b[0m\u001b[0;34m(\u001b[0m\u001b[0mkey\u001b[0m\u001b[0;34m,\u001b[0m \u001b[0maxis\u001b[0m\u001b[0;34m=\u001b[0m\u001b[0maxis\u001b[0m\u001b[0;34m)\u001b[0m\u001b[0;34m\u001b[0m\u001b[0m\n\u001b[0m\u001b[1;32m   1631\u001b[0m \u001b[0;34m\u001b[0m\u001b[0m\n\u001b[1;32m   1632\u001b[0m     \u001b[0;32mdef\u001b[0m \u001b[0m_convert_to_indexer\u001b[0m\u001b[0;34m(\u001b[0m\u001b[0mself\u001b[0m\u001b[0;34m,\u001b[0m \u001b[0mobj\u001b[0m\u001b[0;34m,\u001b[0m \u001b[0maxis\u001b[0m\u001b[0;34m=\u001b[0m\u001b[0;36m0\u001b[0m\u001b[0;34m,\u001b[0m \u001b[0mis_setter\u001b[0m\u001b[0;34m=\u001b[0m\u001b[0mFalse\u001b[0m\u001b[0;34m)\u001b[0m\u001b[0;34m:\u001b[0m\u001b[0;34m\u001b[0m\u001b[0m\n",
      "\u001b[0;32m/Library/Python/2.7/site-packages/pandas/core/indexing.pyc\u001b[0m in \u001b[0;36m_get_loc\u001b[0;34m(self, key, axis)\u001b[0m\n\u001b[1;32m    103\u001b[0m \u001b[0;34m\u001b[0m\u001b[0m\n\u001b[1;32m    104\u001b[0m     \u001b[0;32mdef\u001b[0m \u001b[0m_get_loc\u001b[0m\u001b[0;34m(\u001b[0m\u001b[0mself\u001b[0m\u001b[0;34m,\u001b[0m \u001b[0mkey\u001b[0m\u001b[0;34m,\u001b[0m \u001b[0maxis\u001b[0m\u001b[0;34m=\u001b[0m\u001b[0;36m0\u001b[0m\u001b[0;34m)\u001b[0m\u001b[0;34m:\u001b[0m\u001b[0;34m\u001b[0m\u001b[0m\n\u001b[0;32m--> 105\u001b[0;31m         \u001b[0;32mreturn\u001b[0m \u001b[0mself\u001b[0m\u001b[0;34m.\u001b[0m\u001b[0mobj\u001b[0m\u001b[0;34m.\u001b[0m\u001b[0m_ixs\u001b[0m\u001b[0;34m(\u001b[0m\u001b[0mkey\u001b[0m\u001b[0;34m,\u001b[0m \u001b[0maxis\u001b[0m\u001b[0;34m=\u001b[0m\u001b[0maxis\u001b[0m\u001b[0;34m)\u001b[0m\u001b[0;34m\u001b[0m\u001b[0m\n\u001b[0m\u001b[1;32m    106\u001b[0m \u001b[0;34m\u001b[0m\u001b[0m\n\u001b[1;32m    107\u001b[0m     \u001b[0;32mdef\u001b[0m \u001b[0m_slice\u001b[0m\u001b[0;34m(\u001b[0m\u001b[0mself\u001b[0m\u001b[0;34m,\u001b[0m \u001b[0mobj\u001b[0m\u001b[0;34m,\u001b[0m \u001b[0maxis\u001b[0m\u001b[0;34m=\u001b[0m\u001b[0;36m0\u001b[0m\u001b[0;34m,\u001b[0m \u001b[0mkind\u001b[0m\u001b[0;34m=\u001b[0m\u001b[0mNone\u001b[0m\u001b[0;34m)\u001b[0m\u001b[0;34m:\u001b[0m\u001b[0;34m\u001b[0m\u001b[0m\n",
      "\u001b[0;32m/Library/Python/2.7/site-packages/pandas/core/frame.pyc\u001b[0m in \u001b[0;36m_ixs\u001b[0;34m(self, i, axis)\u001b[0m\n\u001b[1;32m   1971\u001b[0m                 \u001b[0;32mif\u001b[0m \u001b[0misinstance\u001b[0m\u001b[0;34m(\u001b[0m\u001b[0mlabel\u001b[0m\u001b[0;34m,\u001b[0m \u001b[0mIndex\u001b[0m\u001b[0;34m)\u001b[0m\u001b[0;34m:\u001b[0m\u001b[0;34m\u001b[0m\u001b[0m\n\u001b[1;32m   1972\u001b[0m                     \u001b[0;31m# a location index by definition\u001b[0m\u001b[0;34m\u001b[0m\u001b[0;34m\u001b[0m\u001b[0m\n\u001b[0;32m-> 1973\u001b[0;31m                     \u001b[0mresult\u001b[0m \u001b[0;34m=\u001b[0m \u001b[0mself\u001b[0m\u001b[0;34m.\u001b[0m\u001b[0mtake\u001b[0m\u001b[0;34m(\u001b[0m\u001b[0mi\u001b[0m\u001b[0;34m,\u001b[0m \u001b[0maxis\u001b[0m\u001b[0;34m=\u001b[0m\u001b[0maxis\u001b[0m\u001b[0;34m)\u001b[0m\u001b[0;34m\u001b[0m\u001b[0m\n\u001b[0m\u001b[1;32m   1974\u001b[0m                     \u001b[0mcopy\u001b[0m \u001b[0;34m=\u001b[0m \u001b[0mTrue\u001b[0m\u001b[0;34m\u001b[0m\u001b[0m\n\u001b[1;32m   1975\u001b[0m                 \u001b[0;32melse\u001b[0m\u001b[0;34m:\u001b[0m\u001b[0;34m\u001b[0m\u001b[0m\n",
      "\u001b[0;32m/Library/Python/2.7/site-packages/pandas/core/generic.pyc\u001b[0m in \u001b[0;36mtake\u001b[0;34m(self, indices, axis, convert, is_copy, **kwargs)\u001b[0m\n\u001b[1;32m   1667\u001b[0m         new_data = self._data.take(indices,\n\u001b[1;32m   1668\u001b[0m                                    \u001b[0maxis\u001b[0m\u001b[0;34m=\u001b[0m\u001b[0mself\u001b[0m\u001b[0;34m.\u001b[0m\u001b[0m_get_block_manager_axis\u001b[0m\u001b[0;34m(\u001b[0m\u001b[0maxis\u001b[0m\u001b[0;34m)\u001b[0m\u001b[0;34m,\u001b[0m\u001b[0;34m\u001b[0m\u001b[0m\n\u001b[0;32m-> 1669\u001b[0;31m                                    convert=True, verify=True)\n\u001b[0m\u001b[1;32m   1670\u001b[0m         \u001b[0mresult\u001b[0m \u001b[0;34m=\u001b[0m \u001b[0mself\u001b[0m\u001b[0;34m.\u001b[0m\u001b[0m_constructor\u001b[0m\u001b[0;34m(\u001b[0m\u001b[0mnew_data\u001b[0m\u001b[0;34m)\u001b[0m\u001b[0;34m.\u001b[0m\u001b[0m__finalize__\u001b[0m\u001b[0;34m(\u001b[0m\u001b[0mself\u001b[0m\u001b[0;34m)\u001b[0m\u001b[0;34m\u001b[0m\u001b[0m\n\u001b[1;32m   1671\u001b[0m \u001b[0;34m\u001b[0m\u001b[0m\n",
      "\u001b[0;32m/Library/Python/2.7/site-packages/pandas/core/internals.pyc\u001b[0m in \u001b[0;36mtake\u001b[0;34m(self, indexer, axis, verify, convert)\u001b[0m\n\u001b[1;32m   3962\u001b[0m         \u001b[0mnew_labels\u001b[0m \u001b[0;34m=\u001b[0m \u001b[0mself\u001b[0m\u001b[0;34m.\u001b[0m\u001b[0maxes\u001b[0m\u001b[0;34m[\u001b[0m\u001b[0maxis\u001b[0m\u001b[0;34m]\u001b[0m\u001b[0;34m.\u001b[0m\u001b[0mtake\u001b[0m\u001b[0;34m(\u001b[0m\u001b[0mindexer\u001b[0m\u001b[0;34m)\u001b[0m\u001b[0;34m\u001b[0m\u001b[0m\n\u001b[1;32m   3963\u001b[0m         return self.reindex_indexer(new_axis=new_labels, indexer=indexer,\n\u001b[0;32m-> 3964\u001b[0;31m                                     axis=axis, allow_dups=True)\n\u001b[0m\u001b[1;32m   3965\u001b[0m \u001b[0;34m\u001b[0m\u001b[0m\n\u001b[1;32m   3966\u001b[0m     \u001b[0;32mdef\u001b[0m \u001b[0mmerge\u001b[0m\u001b[0;34m(\u001b[0m\u001b[0mself\u001b[0m\u001b[0;34m,\u001b[0m \u001b[0mother\u001b[0m\u001b[0;34m,\u001b[0m \u001b[0mlsuffix\u001b[0m\u001b[0;34m=\u001b[0m\u001b[0;34m''\u001b[0m\u001b[0;34m,\u001b[0m \u001b[0mrsuffix\u001b[0m\u001b[0;34m=\u001b[0m\u001b[0;34m''\u001b[0m\u001b[0;34m)\u001b[0m\u001b[0;34m:\u001b[0m\u001b[0;34m\u001b[0m\u001b[0m\n",
      "\u001b[0;32m/Library/Python/2.7/site-packages/pandas/core/internals.pyc\u001b[0m in \u001b[0;36mreindex_indexer\u001b[0;34m(self, new_axis, indexer, axis, fill_value, allow_dups, copy)\u001b[0m\n\u001b[1;32m   3852\u001b[0m         \u001b[0mnew_axes\u001b[0m \u001b[0;34m=\u001b[0m \u001b[0mlist\u001b[0m\u001b[0;34m(\u001b[0m\u001b[0mself\u001b[0m\u001b[0;34m.\u001b[0m\u001b[0maxes\u001b[0m\u001b[0;34m)\u001b[0m\u001b[0;34m\u001b[0m\u001b[0m\n\u001b[1;32m   3853\u001b[0m         \u001b[0mnew_axes\u001b[0m\u001b[0;34m[\u001b[0m\u001b[0maxis\u001b[0m\u001b[0;34m]\u001b[0m \u001b[0;34m=\u001b[0m \u001b[0mnew_axis\u001b[0m\u001b[0;34m\u001b[0m\u001b[0m\n\u001b[0;32m-> 3854\u001b[0;31m         \u001b[0;32mreturn\u001b[0m \u001b[0mself\u001b[0m\u001b[0;34m.\u001b[0m\u001b[0m__class__\u001b[0m\u001b[0;34m(\u001b[0m\u001b[0mnew_blocks\u001b[0m\u001b[0;34m,\u001b[0m \u001b[0mnew_axes\u001b[0m\u001b[0;34m)\u001b[0m\u001b[0;34m\u001b[0m\u001b[0m\n\u001b[0m\u001b[1;32m   3855\u001b[0m \u001b[0;34m\u001b[0m\u001b[0m\n\u001b[1;32m   3856\u001b[0m     \u001b[0;32mdef\u001b[0m \u001b[0m_slice_take_blocks_ax0\u001b[0m\u001b[0;34m(\u001b[0m\u001b[0mself\u001b[0m\u001b[0;34m,\u001b[0m \u001b[0mslice_or_indexer\u001b[0m\u001b[0;34m,\u001b[0m \u001b[0mfill_tuple\u001b[0m\u001b[0;34m=\u001b[0m\u001b[0mNone\u001b[0m\u001b[0;34m)\u001b[0m\u001b[0;34m:\u001b[0m\u001b[0;34m\u001b[0m\u001b[0m\n",
      "\u001b[0;32m/Library/Python/2.7/site-packages/pandas/core/internals.pyc\u001b[0m in \u001b[0;36m__init__\u001b[0;34m(self, blocks, axes, do_integrity_check, fastpath)\u001b[0m\n\u001b[1;32m   2763\u001b[0m         \u001b[0mself\u001b[0m\u001b[0;34m.\u001b[0m\u001b[0m_consolidate_check\u001b[0m\u001b[0;34m(\u001b[0m\u001b[0;34m)\u001b[0m\u001b[0;34m\u001b[0m\u001b[0m\n\u001b[1;32m   2764\u001b[0m \u001b[0;34m\u001b[0m\u001b[0m\n\u001b[0;32m-> 2765\u001b[0;31m         \u001b[0mself\u001b[0m\u001b[0;34m.\u001b[0m\u001b[0m_rebuild_blknos_and_blklocs\u001b[0m\u001b[0;34m(\u001b[0m\u001b[0;34m)\u001b[0m\u001b[0;34m\u001b[0m\u001b[0m\n\u001b[0m\u001b[1;32m   2766\u001b[0m \u001b[0;34m\u001b[0m\u001b[0m\n\u001b[1;32m   2767\u001b[0m     \u001b[0;32mdef\u001b[0m \u001b[0mmake_empty\u001b[0m\u001b[0;34m(\u001b[0m\u001b[0mself\u001b[0m\u001b[0;34m,\u001b[0m \u001b[0maxes\u001b[0m\u001b[0;34m=\u001b[0m\u001b[0mNone\u001b[0m\u001b[0;34m)\u001b[0m\u001b[0;34m:\u001b[0m\u001b[0;34m\u001b[0m\u001b[0m\n",
      "\u001b[0;32m/Library/Python/2.7/site-packages/pandas/core/internals.pyc\u001b[0m in \u001b[0;36m_rebuild_blknos_and_blklocs\u001b[0;34m(self)\u001b[0m\n\u001b[1;32m   2853\u001b[0m             \u001b[0mnew_blklocs\u001b[0m\u001b[0;34m[\u001b[0m\u001b[0mrl\u001b[0m\u001b[0;34m.\u001b[0m\u001b[0mindexer\u001b[0m\u001b[0;34m]\u001b[0m \u001b[0;34m=\u001b[0m \u001b[0mnp\u001b[0m\u001b[0;34m.\u001b[0m\u001b[0marange\u001b[0m\u001b[0;34m(\u001b[0m\u001b[0mlen\u001b[0m\u001b[0;34m(\u001b[0m\u001b[0mrl\u001b[0m\u001b[0;34m)\u001b[0m\u001b[0;34m)\u001b[0m\u001b[0;34m\u001b[0m\u001b[0m\n\u001b[1;32m   2854\u001b[0m \u001b[0;34m\u001b[0m\u001b[0m\n\u001b[0;32m-> 2855\u001b[0;31m         \u001b[0;32mif\u001b[0m \u001b[0;34m(\u001b[0m\u001b[0mnew_blknos\u001b[0m \u001b[0;34m==\u001b[0m \u001b[0;34m-\u001b[0m\u001b[0;36m1\u001b[0m\u001b[0;34m)\u001b[0m\u001b[0;34m.\u001b[0m\u001b[0many\u001b[0m\u001b[0;34m(\u001b[0m\u001b[0;34m)\u001b[0m\u001b[0;34m:\u001b[0m\u001b[0;34m\u001b[0m\u001b[0m\n\u001b[0m\u001b[1;32m   2856\u001b[0m             \u001b[0;32mraise\u001b[0m \u001b[0mAssertionError\u001b[0m\u001b[0;34m(\u001b[0m\u001b[0;34m\"Gaps in blk ref_locs\"\u001b[0m\u001b[0;34m)\u001b[0m\u001b[0;34m\u001b[0m\u001b[0m\n\u001b[1;32m   2857\u001b[0m \u001b[0;34m\u001b[0m\u001b[0m\n",
      "\u001b[0;32m/Library/Python/2.7/site-packages/numpy/core/_methods.pyc\u001b[0m in \u001b[0;36m_any\u001b[0;34m(a, axis, dtype, out, keepdims)\u001b[0m\n\u001b[1;32m     36\u001b[0m \u001b[0;34m\u001b[0m\u001b[0m\n\u001b[1;32m     37\u001b[0m \u001b[0;32mdef\u001b[0m \u001b[0m_any\u001b[0m\u001b[0;34m(\u001b[0m\u001b[0ma\u001b[0m\u001b[0;34m,\u001b[0m \u001b[0maxis\u001b[0m\u001b[0;34m=\u001b[0m\u001b[0mNone\u001b[0m\u001b[0;34m,\u001b[0m \u001b[0mdtype\u001b[0m\u001b[0;34m=\u001b[0m\u001b[0mNone\u001b[0m\u001b[0;34m,\u001b[0m \u001b[0mout\u001b[0m\u001b[0;34m=\u001b[0m\u001b[0mNone\u001b[0m\u001b[0;34m,\u001b[0m \u001b[0mkeepdims\u001b[0m\u001b[0;34m=\u001b[0m\u001b[0mFalse\u001b[0m\u001b[0;34m)\u001b[0m\u001b[0;34m:\u001b[0m\u001b[0;34m\u001b[0m\u001b[0m\n\u001b[0;32m---> 38\u001b[0;31m     \u001b[0;32mreturn\u001b[0m \u001b[0mumr_any\u001b[0m\u001b[0;34m(\u001b[0m\u001b[0ma\u001b[0m\u001b[0;34m,\u001b[0m \u001b[0maxis\u001b[0m\u001b[0;34m,\u001b[0m \u001b[0mdtype\u001b[0m\u001b[0;34m,\u001b[0m \u001b[0mout\u001b[0m\u001b[0;34m,\u001b[0m \u001b[0mkeepdims\u001b[0m\u001b[0;34m)\u001b[0m\u001b[0;34m\u001b[0m\u001b[0m\n\u001b[0m\u001b[1;32m     39\u001b[0m \u001b[0;34m\u001b[0m\u001b[0m\n\u001b[1;32m     40\u001b[0m \u001b[0;32mdef\u001b[0m \u001b[0m_all\u001b[0m\u001b[0;34m(\u001b[0m\u001b[0ma\u001b[0m\u001b[0;34m,\u001b[0m \u001b[0maxis\u001b[0m\u001b[0;34m=\u001b[0m\u001b[0mNone\u001b[0m\u001b[0;34m,\u001b[0m \u001b[0mdtype\u001b[0m\u001b[0;34m=\u001b[0m\u001b[0mNone\u001b[0m\u001b[0;34m,\u001b[0m \u001b[0mout\u001b[0m\u001b[0;34m=\u001b[0m\u001b[0mNone\u001b[0m\u001b[0;34m,\u001b[0m \u001b[0mkeepdims\u001b[0m\u001b[0;34m=\u001b[0m\u001b[0mFalse\u001b[0m\u001b[0;34m)\u001b[0m\u001b[0;34m:\u001b[0m\u001b[0;34m\u001b[0m\u001b[0m\n",
      "\u001b[0;31mKeyboardInterrupt\u001b[0m: "
     ]
    }
   ],
   "source": [
    "eppath = \"../../../../eot_detection_data/Data/pickled_episodes/\"\n",
    "overall_final = []\n",
    "overall_non_final = []\n",
    "\n",
    "for t in range(2,8):\n",
    "    target = str(t)\n",
    "    if t >3: \n",
    "        heldout = str(t-1)\n",
    "    else: \n",
    "        heldout = str(t+1)\n",
    "    lmstring = \"\"\n",
    "    print \"target\", target, \"heldout\", heldout\n",
    "    for f in folds.keys():\n",
    "        if f==target: \n",
    "            print \"skipping fold\",f\n",
    "            continue\n",
    "        lmstring+=folds[f]\n",
    "    #trying 0.9 heldout version like Angelika's script\n",
    "    incorpus = sorted(lmstring.split(\"\\n\"))\n",
    "    #shuffle(incorpus) # shuffle\n",
    "    heldout_split = int(len(incorpus)*0.9)\n",
    "    print \"training size\", heldout_split\n",
    "    corpus = \"\\n\".join(incorpus[:heldout_split])\n",
    "    hcorpus = \"\\n\".join(incorpus[heldout_split:])\n",
    "    file = open(\"test_jh_model.text\",\"w\")\n",
    "    file.write(corpus+\"\\n\\n HELDOUT \\n\" + hcorpus)\n",
    "    file.close()\n",
    "\n",
    "    lm = KneserNeySmoothingModel(order=3,\n",
    "                                     discount=0.7,\n",
    "                                     partial_words=True,\n",
    "                                     train_corpus=corpus,\n",
    "                                     heldout_corpus=hcorpus,\n",
    "                                     second_corpus=None)\n",
    "\n",
    "\n",
    "    final = []\n",
    "    non_final = []\n",
    "    \n",
    "    for f in folds.keys():\n",
    "        if not f ==  target:\n",
    "            continue\n",
    "        ep_paths = lsdir(eppath+'/r'+str(f)+'/','pkl')\n",
    "        for raw_path in ep_paths:\n",
    "        #for line in folds[f].split(\"\\n\"):\n",
    "            #if not \"100\" in raw_path: continue\n",
    "            path = eppath + '/r' + str(f) + '/' + raw_path\n",
    "            #print path\n",
    "            test_ep_df = pickle.load(open(path,'rb'))\n",
    "            words_idx = get_words_and_frame_positions_of_start_times(test_ep_df, feature=\"wml_trigram\")\n",
    "        #for l in folds[f].split(\"\\n\"):\n",
    "            #print l\n",
    "            words = [\"<s>\"] * (lm.order-1) + [w for w,local_wml,i in words_idx] + [\"<eot>\"]\n",
    "            wml_s = [\"<s>\"] * (lm.order-1) + [local_wml for w,local_wml,i in words_idx] + [\"<eot>\"]\n",
    "            print wml_s\n",
    "            #print words\n",
    "            #if f == \"6\":\n",
    "            #    print \"words\",words\n",
    "            #raw_input()\n",
    "            if line == \"\": continue\n",
    "            #words = [\"<s>\"] * (lm.order-1) + line.split() + [\"</s>\"]\n",
    "            print words\n",
    "            for w in range(lm.order-1,len(words)-1):\n",
    "                #print words[w]\n",
    "                #if not words[w] in lm.unigrams:\n",
    "                #    print \"not in uni\", words[w]\n",
    "                if words[w] == 'mtp': continue #to get rid of false hope\n",
    "                eot_ngram = words[ w-(lm.order-2) : w+1 ] + [\"</s>\"]\n",
    "                eot_all = words[:w+1] + [\"</s>\"]\n",
    "                #print eot_all\n",
    "                #lwbi = lm.raw_ngram_prob(eot_ngram,lm.discount,lm.order)\n",
    "                lwbi_wml = lm.logprob_weighted_by_inverse_unigram_logprob(eot_all)\n",
    "                                                                         \n",
    "                                                            \n",
    "                #lwbi_h = lm.entropy(\" \".join(words[lm.order-1:w+1]  + [\"<eot>\"] ),lm.order)\n",
    "                #lwbi_log_weight = lm.logprob_weighted_by_sequence_length(eot_all)\n",
    "                #lwbi_all = lm.logprob(\" \".join(eot_all[(lm.order-1):]))\n",
    "                #print eot_ngram, lwbi_wml\n",
    "                lwbi = lwbi_wml\n",
    "                test_wml = wml_s[w]\n",
    "                lwbi = test_wml\n",
    "                #if not lwbi == test_wml:\n",
    "                #    print \"NO WML!!!!!\"\n",
    "                #    print eot_ngram,lwbi,\"am:\",test_wml\n",
    "                #else:\n",
    "                #    print \"ok\",eot_ngram,lwbi,test_wml\n",
    "                #lwbi = test_wml #to check values\n",
    "                #print eot_ngram,lwbi\n",
    "                if w < len(words)-2:\n",
    "                #   print 'non final'\n",
    "                    non_final.append(lwbi)\n",
    "                    overall_non_final.append(lwbi)\n",
    "                else:\n",
    "                    print \"final\"\n",
    "                    \n",
    "                    final.append(lwbi)\n",
    "                    overall_final.append(lwbi)\n",
    "    print \"AVERAGE &&&&&&&&&&&&&&&&&&&\"\n",
    "    print np.average(final), np.average(non_final)\n",
    "    \n",
    "    #plot_hist(final,non_final,'Final','Non-final','WML for word,<eot> for final and non-final words',num_bins=12)\n"
   ]
  },
  {
   "cell_type": "code",
   "execution_count": 52,
   "metadata": {
    "collapsed": false
   },
   "outputs": [
    {
     "name": "stdout",
     "output_type": "stream",
     "text": [
      "-0.618738293081 0.475008270534 -1.0898497965 0.587025994961\n"
     ]
    },
    {
     "data": {
      "image/png": "[encoded data removed]",
      "text/plain": [
       "<matplotlib.figure.Figure at 0x1082d7150>"
      ]
     },
     "metadata": {},
     "output_type": "display_data"
    }
   ],
   "source": [
    "print np.average(overall_final), np.std(overall_final), np.average(overall_non_final), np.std(overall_non_final)\n",
    "fig = plt.figure()\n",
    "plot_title = 'WML language model values for trigrams $<w_{i-1},w_i$,<eot>$>$'\n",
    "feature_name = \"WML Value\"\n",
    "plot_hist(overall_final,overall_non_final,'$w_i$ = Final word',\n",
    "          '$w_i$ = Non-final word',\n",
    "          plot_title,\n",
    "          num_bins=30,\n",
    "          x_range=[-3,0],\n",
    "          y_range=[0,5],\n",
    "         feature=feature_name)\n",
    "fig.savefig(\"../../../Paper/Interspeech/submission/WML_values.pdf\")"
   ]
  },
  {
   "cell_type": "code",
   "execution_count": 32,
   "metadata": {
    "collapsed": false
   },
   "outputs": [
    {
     "name": "stdout",
     "output_type": "stream",
     "text": [
      "0.845966989167 0.951973005378 0.0526938837345 1.08415686476\n"
     ]
    },
    {
     "data": {
      "image/png": "[encoded data removed]",
      "text/plain": [
       "<matplotlib.figure.Figure at 0x1078f76d0>"
      ]
     },
     "metadata": {},
     "output_type": "display_data"
    }
   ],
   "source": [
    "print np.average(overall_final), np.std(overall_final), np.average(overall_non_final), np.std(overall_non_final)\n",
    "fig = plt.figure()\n",
    "feature_name = \"Phoneme duration (Z-score)\"\n",
    "plot_hist(overall_final,overall_non_final,'$w_i$ = Final word',\n",
    "          '$w_i$ = Non-final word',\n",
    "          'Phoneme duration Z-score of latest word $w_i$',\n",
    "          num_bins=100,\n",
    "          x_range=[-8,8],\n",
    "          y_range=[0,1],\n",
    "         feature=feature_name)\n",
    "fig.savefig(\"../../../Paper/Interspeech/submission/Zscore_values_done.pdf\")"
   ]
  },
  {
   "cell_type": "code",
   "execution_count": null,
   "metadata": {
    "collapsed": true
   },
   "outputs": [],
   "source": []
  }
 ],
 "metadata": {
  "kernelspec": {
   "display_name": "Python 2",
   "language": "python",
   "name": "python2"
  },
  "language_info": {
   "codemirror_mode": {
    "name": "ipython",
    "version": 2
   },
   "file_extension": ".py",
   "mimetype": "text/x-python",
   "name": "python",
   "nbconvert_exporter": "python",
   "pygments_lexer": "ipython2",
   "version": "2.7.10"
  }
 },
 "nbformat": 4,
 "nbformat_minor": 0
}
