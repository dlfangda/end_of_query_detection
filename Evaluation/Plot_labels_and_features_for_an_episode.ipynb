{
 "cells": [
  {
   "cell_type": "markdown",
   "metadata": {
    "deletable": true,
    "editable": true
   },
   "source": [
    "# Plot labels and features for an episode over time"
   ]
  },
  {
   "cell_type": "code",
   "execution_count": 1,
   "metadata": {
    "collapsed": false,
    "deletable": true,
    "editable": true
   },
   "outputs": [],
   "source": [
    "import numpy as np\n",
    "import pandas as pd\n",
    "import matplotlib.pyplot as plt\n",
    "%matplotlib inline\n",
    "import pickle\n",
    "\n",
    "#something goes wrong here - no print statements possible any longer when doing reload(sys)\n",
    "#solution: save and redirect the standard output to the ipython notebook\n",
    "import sys  \n",
    "stdout = sys.stdout\n",
    "\n",
    "reload(sys)  \n",
    "sys.setdefaultencoding('utf8')\n",
    "sys.getdefaultencoding()\n",
    "\n",
    "sys.stdout = stdout\n",
    "\n",
    "from matplotlib.backends.backend_pdf import PdfPages"
   ]
  },
  {
   "cell_type": "code",
   "execution_count": 2,
   "metadata": {
    "collapsed": true,
    "deletable": true,
    "editable": true
   },
   "outputs": [],
   "source": [
    "def plot_labels_gold(pdist_df, plot_legend=True):\n",
    "    \"\"\"\n",
    "    pdist_df : dataframe\n",
    "    \"\"\"\n",
    "    z = pd.Series(pdist_df.label.astype(float))\n",
    "    x = pd.Series(pdist_df.time.astype(float))\n",
    "    pred = pd.Series(pdist_df.prediction.astype(float))\n",
    "    print pdist_df.time.astype(float).max()\n",
    "    #print pdist_df[pdist_df['speaker']==speak][pdist_df['episode']==ep_to_show].current_word.unique()\n",
    "\n",
    "    #print len(wm)\n",
    "    #print len(z)\n",
    "    ax = plt.subplot(111)\n",
    "    ax.set_ylim([-1,3])\n",
    "    #ax.set_xlim([0,15])\n",
    "    \n",
    "    plt.plot(x,z, label=\"gold\")\n",
    "    plt.plot(x,pred, label=\"prediction\")\n",
    "    if plot_legend:\n",
    "        plt.legend(['gold', 'prediction'],bbox_to_anchor=(1.05, 1), loc=2, borderaxespad=0.)\n",
    "\n",
    "    plt.show()"
   ]
  },
  {
   "cell_type": "markdown",
   "metadata": {},
   "source": [
    "# Plot final labels and predictions for an episode\n",
    "    - Plot labels as function of time\n",
    "    - 0 = Mid-turn-pause\n",
    "    - 1 = Speech\n",
    "    - 2 = End-of-turn"
   ]
  },
  {
   "cell_type": "code",
   "execution_count": 3,
   "metadata": {
    "collapsed": false,
    "deletable": true,
    "editable": true
   },
   "outputs": [
    {
     "name": "stdout",
     "output_type": "stream",
     "text": [
      "18.65\n"
     ]
    },
    {
     "data": {
      "image/png": "[encoded data removed]",
      "text/plain": [
       "<matplotlib.figure.Figure at 0xae5e1dec>"
      ]
     },
     "metadata": {},
     "output_type": "display_data"
    }
   ],
   "source": [
    "sp = 2\n",
    "ep = 75\n",
    "#ep_path = './feature_extraction/pickledEpisodes_LM'#'./pklModels_limit_train/pickledEpisodes_dur'\n",
    "mode = \"baseline\"\n",
    "ep_path = \"../../../eot_detection_data/Models/lstm_5/r{}/inc_output/inc_output_r{}.0_{}.0_{}.pkl\".format(sp,sp,ep,mode)\n",
    "df = pd.read_pickle(ep_path)\n",
    "df['time'] = [x/100.0 for x in df.index.tolist()]\n",
    "plot_labels_gold(df)\n",
    "#fname = ep_path+'/r'+str(sp)+'/r'+str(sp)+'_'+str(float(ep))+'.pkl'\n",
    "#with open(fname,'rb') as ep_pkl:\n",
    "#    pdist_df = pickle.load(ep_pkl)"
   ]
  },
  {
   "cell_type": "markdown",
   "metadata": {},
   "source": [
    "# Plot features over time for an episode"
   ]
  },
  {
   "cell_type": "code",
   "execution_count": 4,
   "metadata": {
    "collapsed": false,
    "deletable": true,
    "editable": true
   },
   "outputs": [],
   "source": [
    "#plot the selected features per timestep/words\n",
    "#save the plot as pdf (specify the path in title_pdf)\n",
    "#args: speaker, episode as int, \n",
    "#path to the pickled episodes, label of y axis, limitation of x respective y axis,\n",
    "#factor to multiply values of intensity (to make them visible in the plot - the values are to small)\n",
    "#title of plot, path to pdf, features with boolean value wether to plot them or not\n",
    "def plot_features(sp, ep, ep_path, ylabel, x_lim, y_lim, intens_mult, title_wml,\\\n",
    "                  title_pdf ='some_pdf.pdf', zoom_to_words=False, show_eot=False,\\\n",
    "                  wm = False, wmx = False, \\\n",
    "                  entropy = False,\\\n",
    "                  zsc=False, intensm=True, \\\n",
    "                  rms=False, loudness=False,\\\n",
    "                  intenss=False, dur=False,\\\n",
    "                  F0=False, voiceF0=False):\n",
    "    \n",
    "    #fname = './../incremental-eot/pickledEpisodes/r'+str(sp)+'/r'+str(sp)+'_'+str(float(ep))+'.pkl' #MMT/r'+str(sp)+'/viterbiincremental'+str(speaker)+mode+'_'+subset+'.csv''\n",
    "    fname = ep_path+'/r'+str(sp)+'/r'+str(sp)+'_'+str(int(ep))+'.pkl'\n",
    "    with open(fname,'rb') as ep_pkl:\n",
    "        feat_vecs_raw = pickle.load(ep_pkl)        \n",
    "    #print feat_vecs_raw.keys()\n",
    "    leg_lab = []\n",
    "    \n",
    "    labs = pd.Series(feat_vecs_raw.label.astype(float))\n",
    "    \n",
    "    y = pd.Series(feat_vecs_raw.wml_trigram.astype(float))\n",
    "    z = pd.Series(feat_vecs_raw.wml.astype(float))\n",
    "    \n",
    "    b = pd.Series(feat_vecs_raw.intensity_slope.astype(float))\n",
    "    c = pd.Series(feat_vecs_raw.intensity_mean.astype(float))\n",
    "    d = pd.Series(feat_vecs_raw.pcm_loudness_sma.astype(float))\n",
    "    e = pd.Series(feat_vecs_raw.pcm_RMSenergy_sma.astype(float))\n",
    "    f = pd.Series(feat_vecs_raw.voicingFinalUnclipped_slope.astype(float))\n",
    "    g = pd.Series(feat_vecs_raw.F0_slope.astype(float))\n",
    "    h = pd.Series(feat_vecs_raw.entropy.astype(float))\n",
    "    \n",
    "    b = [intens*intens_mult for intens in list(b)]\n",
    "    c = [intensitym*intens_mult for intensitym in list(c)]\n",
    "    e = [rmse*1000 for rmse in list(e)]\n",
    "    \n",
    "    #f = [(vF*intens_mult)/100000 for vF in list(f)]\n",
    "    #g = [(F0_s*intens_mult)/1000000 for F0_s in list(g)]\n",
    "    \n",
    "    #feat_vecs_raw = dur_feats\n",
    "    a = pd.Series(feat_vecs_raw.zscore.astype(float))    \n",
    "    l = pd.Series(feat_vecs_raw.duration.astype(float))#'''\n",
    "    x = pd.Series(feat_vecs_raw.time_in_sec.astype(float))\n",
    "    maxval = pd.Series(feat_vecs_raw.time_in_sec.astype(float)).max()\n",
    "    print 'length of episode in sec ', maxval\n",
    "    print len(x)\n",
    "    \n",
    "    #values for x labels -> words at changing of WML\n",
    "    #words = feat_vecs_zsc[feat_vecs_zsc['speaker']==sp][feat_vecs_zsc['episode']==ep]\n",
    "    words = feat_vecs_raw[['current_word']]\n",
    "    tlist = [1.0]\n",
    "    llist = ['start']\n",
    "    lw = ''\n",
    "    for i in range(len(words)):\n",
    "        word = words.iloc[[i]].current_word.values[0]\n",
    "        word.encode('utf8')\n",
    "        if word != lw:\n",
    "            lw = word            \n",
    "            if word == u'<sil>' or word==\"<null>\":\n",
    "                continue                \n",
    "            else:\n",
    "                #time = words.iloc[[i]].time_in_sec.values[0]\n",
    "                #tlist.append(float(time))\n",
    "            \n",
    "                word = word.lower()\n",
    "                word = word.replace('<','')\n",
    "                word = word.replace('>','')\n",
    "                word = word.replace('ä','ae')\n",
    "                word = word.replace('ö','oe')\n",
    "                word = word.replace('ü','ue')\n",
    "                #word += '_'+str(time)\n",
    "                llist.append(word)\n",
    "            print word\n",
    "    llist = [llist[0]]+llist[1:]\n",
    "                \n",
    "    time_list = list(x)\n",
    "    wml_vals = list(z)\n",
    "    last_wml = wml_vals[0]\n",
    "    eot_time = -1\n",
    "    for i in range(len(list(wml_vals))):\n",
    "        time = float(time_list[i])\n",
    "        if wml_vals[i] != last_wml:\n",
    "            tlist.append(time)\n",
    "            llist[len(tlist)-1] = str(time)+' '+llist[len(tlist)-1] \n",
    "            last_wml = wml_vals[i]\n",
    "        \n",
    "        if eot_time==-1 and labs[i] == 2.0:\n",
    "            eot_time = float(time_list[i])            \n",
    "    \n",
    "    ######## save to pdf #########\n",
    "    with PdfPages(title_pdf) as pdf:\n",
    "        \n",
    "        fig = plt.figure(figsize=(7, 5))\n",
    "        \n",
    "        ax1 = fig.add_subplot(111)\n",
    "        #ax2 = ax1.twiny()\n",
    "        \n",
    "        if zoom_to_words == True:\n",
    "            ax1.set_xlim(x_lim[0], tlist[-1]+2)\n",
    "        else:\n",
    "            ax1.set_xlim(x_lim[0], x_lim[1])\n",
    "        ax1.set_ylim(y_lim[0], y_lim[1])\n",
    "        \n",
    "        handled_lines = []\n",
    "        \n",
    "        if dur == True:\n",
    "            line0, = plt.plot(x,l, label='duration')\n",
    "            handled_lines.append(line0)\n",
    "            leg_lab.append('duration')\n",
    "        if wmx==True:\n",
    "            line1, = plt.plot(x,y, label='WML\\ntrigram' )\n",
    "            handled_lines.append(line1)\n",
    "            leg_lab.append('WML\\ntrigram')\n",
    "        if wm==True:\n",
    "            line2, = plt.plot(x,z, label='WML')\n",
    "            handled_lines.append(line2)\n",
    "            leg_lab.append('WML')\n",
    "        if zsc==True:\n",
    "            line3, = plt.plot(x,a, label='zscore')\n",
    "            handled_lines.append(line3)\n",
    "            leg_lab.append('zscore')\n",
    "        if intensm==True:\n",
    "            line4, = plt.plot(x,b, label='intensity mean')\n",
    "            handled_lines.append(line4)\n",
    "            leg_lab.append('intens_mean')\n",
    "        if intenss==True:\n",
    "            line5, = plt.plot(x,c, label='intensity slope')\n",
    "            handled_lines.append(line5)\n",
    "            leg_lab.append('Intensity slope')\n",
    "        if rms==True:\n",
    "            line6, = plt.plot(x,e, label='RMS')\n",
    "            handled_lines.append(line6)\n",
    "            leg_lab.append('RMS')\n",
    "        if loudness==True:\n",
    "            line7, = plt.plot(x,d, label='loudness')\n",
    "            handled_lines.append(line7)\n",
    "            leg_lab.append('loudness')    \n",
    "        if voiceF0 == True:\n",
    "            line8, = plt.plot(x, f, label = 'voicingFinalUnclipped_slope')\n",
    "            handled_lines.append(line8)\n",
    "            leg_lab.append('voicingFinalUnclipped')\n",
    "        if F0 == True:\n",
    "            line9, = plt.plot(x, f, label = 'F0_slope')\n",
    "            handled_lines.append(line9)\n",
    "            leg_lab.append('F0_slope')\n",
    "        if entropy == True:\n",
    "            line10, = plt.plot(x, h, label= 'entropy')\n",
    "            handled_lines.append(line10)\n",
    "            leg_lab.append('inv(Perplexity)')\n",
    "        if title_wml != '':\n",
    "            plt.title(title_wml)\n",
    "            \n",
    "            #print type(word)\n",
    "        #for t in tlist: \n",
    "        #    plt.plot([t, t], [-10, 5], 'k-', lw=.5)        \n",
    "        #plt.xlabel(\"time in seconds\")\n",
    "    \n",
    "        #xticks labels\n",
    "        #plt.xlabel(\"words\")\n",
    "        #plt.xticks(tlist,llist,rotation=70,  fontsize = 8)\n",
    "        \n",
    "        ax1.set_xticks(tlist)\n",
    "        ax1.set_xticklabels(llist, rotation=70,  fontsize = 8)\n",
    "        ax1.set_xlabel(r\"words\")\n",
    "                \n",
    "        plt.margins(.7)\n",
    "        #plt.ylabel(r\"zscore:sec, intensity:freq, wml:prob\")\n",
    "        ax1.set_ylabel(ylabel)\n",
    "        #plt.legend(leg_lab,bbox_to_anchor=(1.05, 1), loc=2, borderaxespad=0.)\n",
    "        #line, = plt.plot(wml_values, label=\"WML trigram\" etc....\n",
    "            \n",
    "        \"\"\"\n",
    "        new_tick_labels = np.array([str(t) for t in tlist])\n",
    "        \n",
    "        ax2.set_xlim(ax1.get_xlim())\n",
    "        ax2.set_xticks(tlist)\n",
    "        ax2.set_xticklabels(new_tick_labels, rotation=70,  fontsize = 8)\n",
    "        ax2.set_xlabel(r\"time in sec\")\n",
    "        \"\"\" \n",
    "        \n",
    "        #EOT line\n",
    "        #plt.plot([tlist[-1]*100, tlist[-1]*100], [tlist[-1]*100+100, tlist[-1]*100+100], 'k-', lw=2)\n",
    "        if show_eot:\n",
    "            ax1.plot([eot_time,eot_time], [-3,3], 'k-', lw=1)\n",
    "            ax1.text(eot_time+0.1, 1, \"EOT\", rotation=90, verticalalignment='center')\n",
    "        \n",
    "        plt.legend(leg_lab, loc=4, borderaxespad=0.2)\n",
    "    \n",
    "\n",
    "        #plt.plot(range(7), [3, 1, 4, 1, 5, 9, 2], 'r-o')\n",
    "        #plt.title('Page One')\n",
    "        \n",
    "        #plt.gcf().subplots_adjust(bottom=0.15)\n",
    "        plt.tight_layout()\n",
    "        pdf.savefig()  # saves the current figure into a pdf page\n",
    "        \n",
    "    ##############################\n",
    "    \n",
    "        plt.show()\n",
    "    \n",
    "    return"
   ]
  },
  {
   "cell_type": "code",
   "execution_count": 5,
   "metadata": {
    "collapsed": true,
    "deletable": true,
    "editable": true
   },
   "outputs": [],
   "source": [
    "#use_ep = {2:4,3:4,4:4,5:4,6:7,7:4}"
   ]
  },
  {
   "cell_type": "code",
   "execution_count": 6,
   "metadata": {
    "collapsed": false,
    "deletable": true,
    "editable": true
   },
   "outputs": [
    {
     "name": "stdout",
     "output_type": "stream",
     "text": [
      "length of episode in sec  17.71\n",
      "1771\n",
      "aehm\n",
      "unten\n",
      "rechts\n",
      "das\n",
      "einzige\n",
      "gruene\n",
      "symbol\n"
     ]
    },
    {
     "data": {
      "image/png": "[encoded data removed]",
      "text/plain": [
       "<matplotlib.figure.Figure at 0xad625fac>"
      ]
     },
     "metadata": {},
     "output_type": "display_data"
    }
   ],
   "source": [
    "sp = 4\n",
    "ep = 31\n",
    "#ep_path = './pklModels_limit_train/pickledEpisodes_30012017'#_dur'\n",
    "#ep_path = './../incremental-eot/Data/pickledEpisodes_old'\n",
    "#ep_path = './pklModels_limit_train/pickledEpisodes_dur'\n",
    "#ep_path = './feature_extraction_modularized/pickledEpisodes_higherOrderTextGridData'\n",
    "#ep_path = './feature_extraction_modularized/pickled_episodes_old_wav13sec'#merge'\n",
    "#pdf_path = \"../../Paper/Interspeech/submission/FeaturePlot.pdf\"\n",
    "pdf_path = \"Episode_{0}_{1}.pdf\".format(sp, ep)\n",
    "ep_path = \"../../../eot_detection_data/Data/pickled_episodes\"\n",
    "plot_features(sp,ep, ep_path, ylabel='Features',\\\n",
    "              x_lim=[0,17], y_lim=[-3,3], intens_mult = 100000,\\\n",
    "              title_pdf=pdf_path,\\\n",
    "              title_wml='', zoom_to_words=True, show_eot=True,\\\n",
    "              wm = True, wmx = True,\\\n",
    "              zsc=False, dur=False, entropy = True,\\\n",
    "              loudness=False, rms=False,\\\n",
    "              intensm=False, intenss=True,\n",
    "              F0=False, voiceF0=False)"
   ]
  },
  {
   "cell_type": "code",
   "execution_count": null,
   "metadata": {
    "collapsed": true
   },
   "outputs": [],
   "source": []
  }
 ],
 "metadata": {
  "kernelspec": {
   "display_name": "Python 2",
   "language": "python",
   "name": "python2"
  },
  "language_info": {
   "codemirror_mode": {
    "name": "ipython",
    "version": 2
   },
   "file_extension": ".py",
   "mimetype": "text/x-python",
   "name": "python",
   "nbconvert_exporter": "python",
   "pygments_lexer": "ipython2",
   "version": "2.7.6"
  }
 },
 "nbformat": 4,
 "nbformat_minor": 0
}
